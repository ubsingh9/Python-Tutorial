{
 "cells": [
  {
   "cell_type": "markdown",
   "id": "e511e3ad-6863-489d-903a-145f375ac7e5",
   "metadata": {},
   "source": [
    "# Variable\n",
    "Variables are containers for storing data values. A variable is created the moment you first assign a value to it (=)"
   ]
  },
  {
   "cell_type": "markdown",
   "id": "3a64a426-e61e-49c0-9400-5fb599a9c988",
   "metadata": {},
   "source": [
    "# Data Types\n",
    "Data types in Python refer to classifying or categorizing data objects based on their characteristics and behavior. They determine the type of values variables can hold and specify the operations that can be performed on those values.\n",
    "<br>\n",
    "1- Numerical types (Int, Float)\n",
    "<br>\n",
    "2- String (Str)\n",
    "<br>\n",
    "3- Boolean (bool)\n",
    "<br>\n",
    "4- Collection type (list, tuple, dict, set)"
   ]
  },
  {
   "cell_type": "code",
   "execution_count": 7,
   "id": "da67046f-fcab-4628-bf21-56688aef97ff",
   "metadata": {},
   "outputs": [
    {
     "name": "stdout",
     "output_type": "stream",
     "text": [
      "Welcome to my channel\n"
     ]
    }
   ],
   "source": [
    "print(\"Welcome to my channel\")"
   ]
  },
  {
   "cell_type": "code",
   "execution_count": 18,
   "id": "385df0cd-6b51-4cc8-8f90-ae9ebb212686",
   "metadata": {},
   "outputs": [],
   "source": [
    "name=\"Alec\" #  String\n",
    "age=25 # Integer\n",
    "height=165.7 # Float\n",
    "is_active=True # Boolean"
   ]
  },
  {
   "cell_type": "code",
   "execution_count": 9,
   "id": "c8a8cbc5-d5a5-419e-9d24-920aba7c09dd",
   "metadata": {},
   "outputs": [
    {
     "name": "stdout",
     "output_type": "stream",
     "text": [
      "Alec 25 165.4 True\n"
     ]
    }
   ],
   "source": [
    "print(name,age,height, is_active)"
   ]
  },
  {
   "cell_type": "code",
   "execution_count": 12,
   "id": "7fb090bf-58b1-4651-8646-a132b29dfcc8",
   "metadata": {},
   "outputs": [
    {
     "name": "stdout",
     "output_type": "stream",
     "text": [
      "<class 'str'>\n",
      "<class 'int'>\n",
      "<class 'float'>\n",
      "<class 'bool'>\n"
     ]
    }
   ],
   "source": [
    "print(type(name))\n",
    "print(type(age))\n",
    "print(type(height))\n",
    "print(type(is_active))"
   ]
  },
  {
   "cell_type": "code",
   "execution_count": 15,
   "id": "588a7a63-cff7-4bdf-adf0-450339a2a52a",
   "metadata": {},
   "outputs": [
    {
     "name": "stdout",
     "output_type": "stream",
     "text": [
      "25\n"
     ]
    }
   ],
   "source": [
    "age=int(\"25\")\n",
    "print(age)"
   ]
  },
  {
   "cell_type": "code",
   "execution_count": 16,
   "id": "4e344f65-d5f2-47f6-ae6b-cbd3f05c8825",
   "metadata": {},
   "outputs": [
    {
     "data": {
      "text/plain": [
       "25.0"
      ]
     },
     "execution_count": 16,
     "metadata": {},
     "output_type": "execute_result"
    }
   ],
   "source": [
    "float(25)"
   ]
  },
  {
   "cell_type": "code",
   "execution_count": 19,
   "id": "72bf3a63-250c-4001-a350-5903d145b54f",
   "metadata": {},
   "outputs": [
    {
     "data": {
      "text/plain": [
       "165"
      ]
     },
     "execution_count": 19,
     "metadata": {},
     "output_type": "execute_result"
    }
   ],
   "source": [
    "int(height)"
   ]
  },
  {
   "cell_type": "code",
   "execution_count": null,
   "id": "e633b694-e636-483f-a36a-ffd660fd29e5",
   "metadata": {},
   "outputs": [],
   "source": []
  }
 ],
 "metadata": {
  "kernelspec": {
   "display_name": "Python 3 (ipykernel)",
   "language": "python",
   "name": "python3"
  },
  "language_info": {
   "codemirror_mode": {
    "name": "ipython",
    "version": 3
   },
   "file_extension": ".py",
   "mimetype": "text/x-python",
   "name": "python",
   "nbconvert_exporter": "python",
   "pygments_lexer": "ipython3",
   "version": "3.12.7"
  }
 },
 "nbformat": 4,
 "nbformat_minor": 5
}
