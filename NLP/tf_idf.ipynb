{
 "cells": [
  {
   "cell_type": "code",
   "execution_count": null,
   "id": "16484cdb",
   "metadata": {},
   "outputs": [
    {
     "name": "stdout",
     "output_type": "stream",
     "text": [
      "Requirement already satisfied: nltk in c:\\users\\icfai\\anaconda3\\lib\\site-packages (3.9.1)\n",
      "Requirement already satisfied: click in c:\\users\\icfai\\anaconda3\\lib\\site-packages (from nltk) (8.1.7)\n",
      "Requirement already satisfied: joblib in c:\\users\\icfai\\anaconda3\\lib\\site-packages (from nltk) (1.4.2)\n",
      "Requirement already satisfied: regex>=2021.8.3 in c:\\users\\icfai\\anaconda3\\lib\\site-packages (from nltk) (2024.9.11)\n",
      "Requirement already satisfied: tqdm in c:\\users\\icfai\\anaconda3\\lib\\site-packages (from nltk) (4.66.5)\n",
      "Requirement already satisfied: colorama in c:\\users\\icfai\\anaconda3\\lib\\site-packages (from click->nltk) (0.4.6)\n"
     ]
    }
   ],
   "source": [
    "!pip install nltk"
   ]
  },
  {
   "cell_type": "code",
   "execution_count": 3,
   "id": "b2b2e7e3",
   "metadata": {},
   "outputs": [],
   "source": [
    "import nltk\n",
    "from nltk.stem import PorterStemmer\n",
    "from nltk.corpus import stopwords\n",
    "from nltk.stem import WordNetLemmatizer\n",
    "import re"
   ]
  },
  {
   "cell_type": "code",
   "execution_count": 2,
   "id": "7a940430",
   "metadata": {},
   "outputs": [
    {
     "name": "stderr",
     "output_type": "stream",
     "text": [
      "[nltk_data] Downloading package punkt to\n",
      "[nltk_data]     C:\\Users\\icfai\\AppData\\Roaming\\nltk_data...\n",
      "[nltk_data]   Package punkt is already up-to-date!\n"
     ]
    },
    {
     "data": {
      "text/plain": [
       "True"
      ]
     },
     "execution_count": 2,
     "metadata": {},
     "output_type": "execute_result"
    }
   ],
   "source": [
    "nltk.download('punkt')"
   ]
  },
  {
   "cell_type": "code",
   "execution_count": 4,
   "id": "0926d48b",
   "metadata": {},
   "outputs": [],
   "source": [
    "paragraph=\"\"\"Narendra Damodardas Modi[a] (born 17 September 1950) is an Indian politician who has served as the prime minister of India since 2014. Modi was the chief minister of Gujarat from 2001 to 2014 and is the member of parliament (MP) for Varanasi. He is a member of the Bharatiya Janata Party (BJP) and of the Rashtriya Swayamsevak Sangh (RSS), a right-wing Hindu nationalist paramilitary volunteer organisation. He is the longest-serving prime minister outside the Indian National Congress.\n",
    "Modi was born and raised in Vadnagar, Bombay State (present-day Gujarat), where he completed his secondary education. He was introduced to the RSS at the age of eight. Modi became a full-time worker for the RSS in Gujarat in 1971. The RSS assigned him to the BJP in 1985 and he rose through the party hierarchy, becoming general secretary in 1998.[b] In 2001, Modi was appointed chief minister of Gujarat and elected to the legislative assembly soon after. His administration is considered complicit in the 2002 Gujarat riots,[c] and has been criticised for its management of the crisis. According to official records, a little over 1,000 people were killed, three-quarters of whom were Muslim; independent sources estimated 2,000 deaths, mostly Muslim.[12] A Special Investigation Team appointed by the Supreme Court of India in 2012 found no evidence to initiate prosecution proceedings against him.[d] While his policies as chief minister were credited for encouraging economic growth, his administration was criticised for failing to significantly improve health, poverty and education indices in the state.[e]\"\"\""
   ]
  },
  {
   "cell_type": "code",
   "execution_count": 5,
   "id": "ecdea342",
   "metadata": {},
   "outputs": [],
   "source": [
    "senetence=nltk.sent_tokenize(paragraph)"
   ]
  },
  {
   "cell_type": "code",
   "execution_count": 6,
   "id": "8ceff6b0",
   "metadata": {},
   "outputs": [
    {
     "name": "stdout",
     "output_type": "stream",
     "text": [
      "['Narendra Damodardas Modi[a] (born 17 September 1950) is an Indian politician who has served as the prime minister of India since 2014.', 'Modi was the chief minister of Gujarat from 2001 to 2014 and is the member of parliament (MP) for Varanasi.', 'He is a member of the Bharatiya Janata Party (BJP) and of the Rashtriya Swayamsevak Sangh (RSS), a right-wing Hindu nationalist paramilitary volunteer organisation.', 'He is the longest-serving prime minister outside the Indian National Congress.', 'Modi was born and raised in Vadnagar, Bombay State (present-day Gujarat), where he completed his secondary education.', 'He was introduced to the RSS at the age of eight.', 'Modi became a full-time worker for the RSS in Gujarat in 1971.', 'The RSS assigned him to the BJP in 1985 and he rose through the party hierarchy, becoming general secretary in 1998.', '[b] In 2001, Modi was appointed chief minister of Gujarat and elected to the legislative assembly soon after.', 'His administration is considered complicit in the 2002 Gujarat riots,[c] and has been criticised for its management of the crisis.', 'According to official records, a little over 1,000 people were killed, three-quarters of whom were Muslim; independent sources estimated 2,000 deaths, mostly Muslim.', '[12] A Special Investigation Team appointed by the Supreme Court of India in 2012 found no evidence to initiate prosecution proceedings against him.', '[d] While his policies as chief minister were credited for encouraging economic growth, his administration was criticised for failing to significantly improve health, poverty and education indices in the state.', '[e]']\n"
     ]
    }
   ],
   "source": [
    "print(senetence)"
   ]
  },
  {
   "cell_type": "code",
   "execution_count": 7,
   "id": "340da7c3",
   "metadata": {},
   "outputs": [],
   "source": [
    "stemmer=PorterStemmer()\n",
    "lemmetizer= WordNetLemmatizer()"
   ]
  },
  {
   "cell_type": "code",
   "execution_count": 8,
   "id": "734de6be",
   "metadata": {},
   "outputs": [
    {
     "name": "stderr",
     "output_type": "stream",
     "text": [
      "[nltk_data] Downloading package wordnet to\n",
      "[nltk_data]     C:\\Users\\icfai\\AppData\\Roaming\\nltk_data...\n",
      "[nltk_data]   Package wordnet is already up-to-date!\n"
     ]
    },
    {
     "data": {
      "text/plain": [
       "True"
      ]
     },
     "execution_count": 8,
     "metadata": {},
     "output_type": "execute_result"
    }
   ],
   "source": [
    "nltk.download('wordnet')"
   ]
  },
  {
   "cell_type": "code",
   "execution_count": 12,
   "id": "115a595e",
   "metadata": {},
   "outputs": [
    {
     "name": "stderr",
     "output_type": "stream",
     "text": [
      "[nltk_data] Downloading package stopwords to\n",
      "[nltk_data]     C:\\Users\\icfai\\AppData\\Roaming\\nltk_data...\n",
      "[nltk_data]   Unzipping corpora\\stopwords.zip.\n"
     ]
    },
    {
     "data": {
      "text/plain": [
       "True"
      ]
     },
     "execution_count": 12,
     "metadata": {},
     "output_type": "execute_result"
    }
   ],
   "source": [
    "nltk.download('stopwords')"
   ]
  },
  {
   "cell_type": "code",
   "execution_count": 8,
   "id": "a8e4e07b",
   "metadata": {},
   "outputs": [],
   "source": [
    "corpus = []\n",
    "for i in range(len(senetence)):\n",
    "    review =re.sub('[^a-zA-Z]', ' ', senetence[i])\n",
    "    review=review.lower()\n",
    "    corpus.append(review)"
   ]
  },
  {
   "cell_type": "code",
   "execution_count": 19,
   "id": "b65d42dd",
   "metadata": {},
   "outputs": [
    {
     "name": "stdout",
     "output_type": "stream",
     "text": [
      "['narendra damodardas modi a   born    september       is an indian politician who has served as the prime minister of india since      ', 'modi was the chief minister of gujarat from      to      and is the member of parliament  mp  for varanasi ', 'he is a member of the bharatiya janata party  bjp  and of the rashtriya swayamsevak sangh  rss   a right wing hindu nationalist paramilitary volunteer organisation ', 'he is the longest serving prime minister outside the indian national congress ', 'modi was born and raised in vadnagar  bombay state  present day gujarat   where he completed his secondary education ', 'he was introduced to the rss at the age of eight ', 'modi became a full time worker for the rss in gujarat in      ', 'the rss assigned him to the bjp in      and he rose through the party hierarchy  becoming general secretary in      ', ' b  in       modi was appointed chief minister of gujarat and elected to the legislative assembly soon after ', 'his administration is considered complicit in the      gujarat riots  c  and has been criticised for its management of the crisis ', 'according to official records  a little over       people were killed  three quarters of whom were muslim  independent sources estimated       deaths  mostly muslim ', '     a special investigation team appointed by the supreme court of india in      found no evidence to initiate prosecution proceedings against him ', ' d  while his policies as chief minister were credited for encouraging economic growth  his administration was criticised for failing to significantly improve health  poverty and education indices in the state ', ' e ']\n"
     ]
    }
   ],
   "source": [
    "print(corpus)"
   ]
  },
  {
   "cell_type": "code",
   "execution_count": 21,
   "id": "80b50886",
   "metadata": {},
   "outputs": [],
   "source": [
    "#### Stemming ####\n",
    "stemming_df= []\n",
    "for i in corpus:\n",
    "    words=nltk.word_tokenize(i)\n",
    "    for word in words:\n",
    "        if word not in set(stopwords.words('english')):\n",
    "            stem_word=stemmer.stem(word)\n",
    "            stemming_df.append(stem_word)"
   ]
  },
  {
   "cell_type": "code",
   "execution_count": 22,
   "id": "b785de03",
   "metadata": {},
   "outputs": [
    {
     "name": "stdout",
     "output_type": "stream",
     "text": [
      "['narendra', 'damodarda', 'modi', 'born', 'septemb', 'indian', 'politician', 'serv', 'prime', 'minist', 'india', 'sinc', 'modi', 'chief', 'minist', 'gujarat', 'member', 'parliament', 'mp', 'varanasi', 'member', 'bharatiya', 'janata', 'parti', 'bjp', 'rashtriya', 'swayamsevak', 'sangh', 'rss', 'right', 'wing', 'hindu', 'nationalist', 'paramilitari', 'volunt', 'organis', 'longest', 'serv', 'prime', 'minist', 'outsid', 'indian', 'nation', 'congress', 'modi', 'born', 'rais', 'vadnagar', 'bombay', 'state', 'present', 'day', 'gujarat', 'complet', 'secondari', 'educ', 'introduc', 'rss', 'age', 'eight', 'modi', 'becam', 'full', 'time', 'worker', 'rss', 'gujarat', 'rss', 'assign', 'bjp', 'rose', 'parti', 'hierarchi', 'becom', 'gener', 'secretari', 'b', 'modi', 'appoint', 'chief', 'minist', 'gujarat', 'elect', 'legisl', 'assembl', 'soon', 'administr', 'consid', 'complicit', 'gujarat', 'riot', 'c', 'criticis', 'manag', 'crisi', 'accord', 'offici', 'record', 'littl', 'peopl', 'kill', 'three', 'quarter', 'muslim', 'independ', 'sourc', 'estim', 'death', 'mostli', 'muslim', 'special', 'investig', 'team', 'appoint', 'suprem', 'court', 'india', 'found', 'evid', 'initi', 'prosecut', 'proceed', 'polici', 'chief', 'minist', 'credit', 'encourag', 'econom', 'growth', 'administr', 'criticis', 'fail', 'significantli', 'improv', 'health', 'poverti', 'educ', 'indic', 'state', 'e']\n"
     ]
    }
   ],
   "source": [
    "print(stemming_df)"
   ]
  },
  {
   "cell_type": "code",
   "execution_count": 23,
   "id": "0cac865a",
   "metadata": {},
   "outputs": [],
   "source": [
    "#### Lemmetization ###\n",
    "lemet_df = []\n",
    "for i in corpus:\n",
    "    words=nltk.word_tokenize(i)\n",
    "    for word in words:\n",
    "        if word not in set(stopwords.words('english')):\n",
    "            lemet=lemmetizer.lemmatize(word)\n",
    "            lemet_df.append(lemet)"
   ]
  },
  {
   "cell_type": "code",
   "execution_count": 24,
   "id": "962f885e",
   "metadata": {},
   "outputs": [],
   "source": [
    "from sklearn.feature_extraction.text import CountVectorizer\n",
    "cv=CountVectorizer()\n",
    "x=cv.fit_transform(corpus)"
   ]
  },
  {
   "cell_type": "code",
   "execution_count": 25,
   "id": "98a5e36c",
   "metadata": {},
   "outputs": [
    {
     "data": {
      "text/plain": [
       "{'narendra': 77,\n",
       " 'damodardas': 29,\n",
       " 'modi': 73,\n",
       " 'born': 18,\n",
       " 'september': 108,\n",
       " 'is': 63,\n",
       " 'an': 5,\n",
       " 'indian': 58,\n",
       " 'politician': 91,\n",
       " 'who': 132,\n",
       " 'has': 47,\n",
       " 'served': 109,\n",
       " 'as': 8,\n",
       " 'the': 120,\n",
       " 'prime': 94,\n",
       " 'minister': 72,\n",
       " 'of': 81,\n",
       " 'india': 57,\n",
       " 'since': 112,\n",
       " 'was': 128,\n",
       " 'chief': 20,\n",
       " 'gujarat': 46,\n",
       " 'from': 42,\n",
       " 'to': 124,\n",
       " 'and': 6,\n",
       " 'member': 71,\n",
       " 'parliament': 87,\n",
       " 'mp': 75,\n",
       " 'for': 40,\n",
       " 'varanasi': 126,\n",
       " 'he': 48,\n",
       " 'bharatiya': 15,\n",
       " 'janata': 65,\n",
       " 'party': 88,\n",
       " 'bjp': 16,\n",
       " 'rashtriya': 99,\n",
       " 'swayamsevak': 118,\n",
       " 'sangh': 105,\n",
       " 'rss': 104,\n",
       " 'right': 101,\n",
       " 'wing': 134,\n",
       " 'hindu': 52,\n",
       " 'nationalist': 79,\n",
       " 'paramilitary': 86,\n",
       " 'volunteer': 127,\n",
       " 'organisation': 83,\n",
       " 'longest': 69,\n",
       " 'serving': 110,\n",
       " 'outside': 84,\n",
       " 'national': 78,\n",
       " 'congress': 23,\n",
       " 'raised': 98,\n",
       " 'in': 55,\n",
       " 'vadnagar': 125,\n",
       " 'bombay': 17,\n",
       " 'state': 116,\n",
       " 'present': 93,\n",
       " 'day': 30,\n",
       " 'where': 130,\n",
       " 'completed': 21,\n",
       " 'his': 53,\n",
       " 'secondary': 106,\n",
       " 'education': 33,\n",
       " 'introduced': 61,\n",
       " 'at': 11,\n",
       " 'age': 4,\n",
       " 'eight': 34,\n",
       " 'became': 12,\n",
       " 'full': 43,\n",
       " 'time': 123,\n",
       " 'worker': 135,\n",
       " 'assigned': 10,\n",
       " 'him': 51,\n",
       " 'rose': 103,\n",
       " 'through': 122,\n",
       " 'hierarchy': 50,\n",
       " 'becoming': 13,\n",
       " 'general': 44,\n",
       " 'secretary': 107,\n",
       " 'appointed': 7,\n",
       " 'elected': 35,\n",
       " 'legislative': 67,\n",
       " 'assembly': 9,\n",
       " 'soon': 113,\n",
       " 'after': 2,\n",
       " 'administration': 1,\n",
       " 'considered': 24,\n",
       " 'complicit': 22,\n",
       " 'riots': 102,\n",
       " 'been': 14,\n",
       " 'criticised': 28,\n",
       " 'its': 64,\n",
       " 'management': 70,\n",
       " 'crisis': 27,\n",
       " 'according': 0,\n",
       " 'official': 82,\n",
       " 'records': 100,\n",
       " 'little': 68,\n",
       " 'over': 85,\n",
       " 'people': 89,\n",
       " 'were': 129,\n",
       " 'killed': 66,\n",
       " 'three': 121,\n",
       " 'quarters': 97,\n",
       " 'whom': 133,\n",
       " 'muslim': 76,\n",
       " 'independent': 56,\n",
       " 'sources': 114,\n",
       " 'estimated': 37,\n",
       " 'deaths': 31,\n",
       " 'mostly': 74,\n",
       " 'special': 115,\n",
       " 'investigation': 62,\n",
       " 'team': 119,\n",
       " 'by': 19,\n",
       " 'supreme': 117,\n",
       " 'court': 25,\n",
       " 'found': 41,\n",
       " 'no': 80,\n",
       " 'evidence': 38,\n",
       " 'initiate': 60,\n",
       " 'prosecution': 96,\n",
       " 'proceedings': 95,\n",
       " 'against': 3,\n",
       " 'while': 131,\n",
       " 'policies': 90,\n",
       " 'credited': 26,\n",
       " 'encouraging': 36,\n",
       " 'economic': 32,\n",
       " 'growth': 45,\n",
       " 'failing': 39,\n",
       " 'significantly': 111,\n",
       " 'improve': 54,\n",
       " 'health': 49,\n",
       " 'poverty': 92,\n",
       " 'indices': 59}"
      ]
     },
     "execution_count": 25,
     "metadata": {},
     "output_type": "execute_result"
    }
   ],
   "source": [
    "cv.vocabulary_"
   ]
  },
  {
   "cell_type": "code",
   "execution_count": 26,
   "id": "38e1a63e",
   "metadata": {},
   "outputs": [
    {
     "data": {
      "text/plain": [
       "array([[0, 0, 0, 0, 0, 1, 0, 0, 1, 0, 0, 0, 0, 0, 0, 0, 0, 0, 1, 0, 0, 0,\n",
       "        0, 0, 0, 0, 0, 0, 0, 1, 0, 0, 0, 0, 0, 0, 0, 0, 0, 0, 0, 0, 0, 0,\n",
       "        0, 0, 0, 1, 0, 0, 0, 0, 0, 0, 0, 0, 0, 1, 1, 0, 0, 0, 0, 1, 0, 0,\n",
       "        0, 0, 0, 0, 0, 0, 1, 1, 0, 0, 0, 1, 0, 0, 0, 1, 0, 0, 0, 0, 0, 0,\n",
       "        0, 0, 0, 1, 0, 0, 1, 0, 0, 0, 0, 0, 0, 0, 0, 0, 0, 0, 0, 0, 1, 1,\n",
       "        0, 0, 1, 0, 0, 0, 0, 0, 0, 0, 1, 0, 0, 0, 0, 0, 0, 0, 0, 0, 0, 0,\n",
       "        1, 0, 0, 0]], dtype=int64)"
      ]
     },
     "execution_count": 26,
     "metadata": {},
     "output_type": "execute_result"
    }
   ],
   "source": [
    "x[0].toarray()"
   ]
  },
  {
   "cell_type": "code",
   "execution_count": null,
   "id": "f11e0652",
   "metadata": {},
   "outputs": [],
   "source": [
    "#### TF #####\n",
    "from sklearn.feature_extraction.text import TfidfVectorizer\n",
    "cv=TfidfVectorizer(max_features=10)\n",
    "X=cv.fit_transform(corpus)"
   ]
  },
  {
   "cell_type": "code",
   "execution_count": 13,
   "id": "90d66c29",
   "metadata": {},
   "outputs": [
    {
     "data": {
      "text/plain": [
       "'narendra damodardas modi a   born    september       is an indian politician who has served as the prime minister of india since      '"
      ]
     },
     "execution_count": 13,
     "metadata": {},
     "output_type": "execute_result"
    }
   ],
   "source": [
    "corpus[0]"
   ]
  },
  {
   "cell_type": "code",
   "execution_count": 14,
   "id": "9475adc3",
   "metadata": {},
   "outputs": [
    {
     "data": {
      "text/plain": [
       "array([[0.        , 0.        , 0.        , 0.        , 0.        ,\n",
       "        0.57457953, 0.57457953, 0.4530051 , 0.36674667, 0.        ]])"
      ]
     },
     "execution_count": 14,
     "metadata": {},
     "output_type": "execute_result"
    }
   ],
   "source": [
    "X[0].toarray()"
   ]
  },
  {
   "cell_type": "code",
   "execution_count": null,
   "id": "beae8e33",
   "metadata": {},
   "outputs": [],
   "source": []
  }
 ],
 "metadata": {
  "kernelspec": {
   "display_name": "base",
   "language": "python",
   "name": "python3"
  },
  "language_info": {
   "codemirror_mode": {
    "name": "ipython",
    "version": 3
   },
   "file_extension": ".py",
   "mimetype": "text/x-python",
   "name": "python",
   "nbconvert_exporter": "python",
   "pygments_lexer": "ipython3",
   "version": "3.12.7"
  }
 },
 "nbformat": 4,
 "nbformat_minor": 5
}
