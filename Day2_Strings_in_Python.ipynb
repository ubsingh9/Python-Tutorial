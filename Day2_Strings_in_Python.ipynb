{
 "cells": [
  {
   "cell_type": "markdown",
   "id": "8e6e23ae",
   "metadata": {},
   "source": [
    "# Day 2 – Strings in Python"
   ]
  },
  {
   "cell_type": "markdown",
   "id": "b02684a6",
   "metadata": {},
   "source": [
    "1. What are Strings?\n",
    "<br>\n",
    "2. How to create and use them\n",
    "<br>\n",
    "3. String indexing & slicing\n",
    "<br>\n",
    "4. Common string methods\n",
    "<br>\n",
    "5. String formatting with f-strings"
   ]
  },
  {
   "cell_type": "markdown",
   "id": "dd5f394d-7850-4e10-9174-f710f01b0367",
   "metadata": {},
   "source": [
    "### 1. What are Strings?\n",
    "Strings in Python are sequences of characters enclosed within single quotes `'` or double quotes `\"`. They are used to represent textual data.\n",
    "<br><br>\n",
    "Strings can contain letters, numbers, symbols, and spaces. Since strings are sequences, individual characters can be accessed using indexing, starting from 0 for the first character. Negative indexing is also supported, where -1 refers to the last character. "
   ]
  },
  {
   "cell_type": "code",
   "execution_count": 4,
   "id": "a1715232",
   "metadata": {},
   "outputs": [
    {
     "name": "stdout",
     "output_type": "stream",
     "text": [
      "Hello\n",
      "World\n",
      "1234\n"
     ]
    }
   ],
   "source": [
    "# Examples of string\n",
    "string1 = 'Hello'\n",
    "string2 = \"World\"\n",
    "string3 = \"1234\"\n",
    "print(string1)\n",
    "print(string2)\n",
    "print(string3)"
   ]
  },
  {
   "cell_type": "markdown",
   "id": "574b443b",
   "metadata": {},
   "source": [
    "### 2. How to Create and Use Strings"
   ]
  },
  {
   "cell_type": "code",
   "execution_count": 8,
   "id": "9451af81",
   "metadata": {},
   "outputs": [
    {
     "name": "stdout",
     "output_type": "stream",
     "text": [
      "Good Morning, Alice!\n",
      "Hello, Alice Booth\n"
     ]
    }
   ],
   "source": [
    "# Creating strings\n",
    "greeting = \"Good Morning\"\n",
    "first_name = 'Alice'\n",
    "last_name = \"Booth\"\n",
    "\n",
    "# Using strings\n",
    "message = greeting + \", \" + name + \"!\"\n",
    "print(message)\n",
    "print(\"Hello\"+\",\"+\" \"+first_name+\" \"+last_name)"
   ]
  },
  {
   "cell_type": "markdown",
   "id": "6a09fd6a",
   "metadata": {},
   "source": [
    "### 3. String Indexing and Slicing"
   ]
  },
  {
   "cell_type": "code",
   "execution_count": 10,
   "id": "875f122f",
   "metadata": {},
   "outputs": [
    {
     "name": "stdout",
     "output_type": "stream",
     "text": [
      "First character: P\n",
      "Last character: n\n",
      "First 3 characters: Pyt\n",
      "Last 3 characters: hon\n",
      "Third Charcter: t\n"
     ]
    }
   ],
   "source": [
    "text = \"Python\"\n",
    "\n",
    "# Indexing\n",
    "print(\"First character:\", text[0])\n",
    "print(\"Last character:\", text[-1])\n",
    "\n",
    "# Slicing\n",
    "print(\"First 3 characters:\", text[:3]) # [0,1,2}\n",
    "print(\"Last 3 characters:\", text[-3:])\n",
    "\n",
    "print(\"Third Charcter:\", text[2])"
   ]
  },
  {
   "cell_type": "markdown",
   "id": "c7a9bd0d",
   "metadata": {},
   "source": [
    "### 4. Common String Methods"
   ]
  },
  {
   "cell_type": "code",
   "execution_count": 12,
   "id": "679f9e8d",
   "metadata": {},
   "outputs": [
    {
     "name": "stdout",
     "output_type": "stream",
     "text": [
      "Lowercase: hello, world!  \n",
      "Uppercase: HELLO, WORLD!  \n",
      "Replace: Hello, Python!  \n",
      "Find position of 'lo': 3\n",
      "Strip spaces: Hello, World!\n"
     ]
    }
   ],
   "source": [
    "sample = \"Hello, World!  \"\n",
    "\n",
    "print(\"Lowercase:\", sample.lower())\n",
    "print(\"Uppercase:\", sample.upper())\n",
    "print(\"Replace:\", sample.replace(\"World\", \"Python\"))\n",
    "print(\"Find position of 'lo':\", sample.find(\"lo\"))\n",
    "print(\"Strip spaces:\", sample.strip())"
   ]
  },
  {
   "cell_type": "markdown",
   "id": "21f50cf3",
   "metadata": {},
   "source": [
    "### 5. String Formatting with f-strings"
   ]
  },
  {
   "cell_type": "code",
   "execution_count": 15,
   "id": "1156c78f",
   "metadata": {},
   "outputs": [
    {
     "name": "stdout",
     "output_type": "stream",
     "text": [
      "My name is Alice and I am 25 years old.\n",
      "My name is Alice and I am 25 years old.\n",
      "My first name is Alice and my last name is Booth and I am 25 years old.\n"
     ]
    }
   ],
   "source": [
    "name = \"Alice\"\n",
    "last_name = \"Booth\"\n",
    "age = 25\n",
    "\n",
    "# f-string formatting\n",
    "print(\"My name is Alice and I am 25 years old.\")\n",
    "print(f\"My name is {name} and I am {age} years old.\")\n",
    "\n",
    "print(f\"My first name is {name} and my last name is {last_name} and I am {age} years old.\")"
   ]
  },
  {
   "cell_type": "code",
   "execution_count": 17,
   "id": "57efa7cc-66d6-400f-ab72-f1c9c2df0932",
   "metadata": {},
   "outputs": [
    {
     "name": "stdout",
     "output_type": "stream",
     "text": [
      "The value of pi up to 2 decimal places is 3.14\n",
      "The value of pi upto 0 decimal place is 3\n"
     ]
    }
   ],
   "source": [
    "pi = 3.141592653589793\n",
    "print(f\"The value of pi up to 2 decimal places is {pi:.2f}\")\n",
    "print(f\"The value of pi upto 0 decimal place is {pi:.0f}\")"
   ]
  },
  {
   "cell_type": "code",
   "execution_count": 18,
   "id": "c46baec1-57df-46c3-8e80-bc2049d7f7ac",
   "metadata": {},
   "outputs": [
    {
     "name": "stdout",
     "output_type": "stream",
     "text": [
      "The area of the rectangle is 50 square units.\n"
     ]
    }
   ],
   "source": [
    "length = 10\n",
    "width = 5\n",
    "print(f\"The area of the rectangle is {length * width} square units.\")"
   ]
  }
 ],
 "metadata": {
  "kernelspec": {
   "display_name": "Python 3 (ipykernel)",
   "language": "python",
   "name": "python3"
  },
  "language_info": {
   "codemirror_mode": {
    "name": "ipython",
    "version": 3
   },
   "file_extension": ".py",
   "mimetype": "text/x-python",
   "name": "python",
   "nbconvert_exporter": "python",
   "pygments_lexer": "ipython3",
   "version": "3.12.7"
  }
 },
 "nbformat": 4,
 "nbformat_minor": 5
}
